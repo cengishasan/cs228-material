{
  "nbformat": 4,
  "nbformat_minor": 0,
  "metadata": {
    "kernelspec": {
      "display_name": "Python 3",
      "language": "python",
      "name": "python3"
    },
    "language_info": {
      "codemirror_mode": {
        "name": "ipython",
        "version": 3
      },
      "file_extension": ".py",
      "mimetype": "text/x-python",
      "name": "python",
      "nbconvert_exporter": "python",
      "pygments_lexer": "ipython3",
      "version": "3.7.3"
    },
    "colab": {
      "name": "cloudremoval-concatenate.ipynb",
      "provenance": [],
      "collapsed_sections": [],
      "include_colab_link": true
    },
    "accelerator": "GPU"
  },
  "cells": [
    {
      "cell_type": "markdown",
      "metadata": {
        "id": "view-in-github",
        "colab_type": "text"
      },
      "source": [
        "<a href=\"https://colab.research.google.com/github/cengishasan/cs228-material/blob/master/cloudremoval_concatenate.ipynb\" target=\"_parent\"><img src=\"https://colab.research.google.com/assets/colab-badge.svg\" alt=\"Open In Colab\"/></a>"
      ]
    },
    {
      "cell_type": "markdown",
      "metadata": {
        "id": "LI-qwTv4oS9J",
        "colab_type": "text"
      },
      "source": [
        "# Download Dataset"
      ]
    },
    {
      "cell_type": "code",
      "metadata": {
        "id": "Ss8yP6KwmXD_",
        "colab_type": "code",
        "colab": {
          "base_uri": "https://localhost:8080/",
          "height": 51
        },
        "outputId": "726af0d1-a455-4211-c0f7-3b9eeca1bf1e"
      },
      "source": [
        "from google_drive_downloader import GoogleDriveDownloader as gdd\n",
        "gdd.download_file_from_google_drive(file_id='15HFb7d6EBYsD5xLBU4wlqSIOFK4-arjc',dest_path='./dataset.zip',unzip=True)"
      ],
      "execution_count": 7,
      "outputs": [
        {
          "output_type": "stream",
          "text": [
            "Downloading 15HFb7d6EBYsD5xLBU4wlqSIOFK4-arjc into ./dataset.zip... Done.\n",
            "Unzipping...Done.\n"
          ],
          "name": "stdout"
        }
      ]
    },
    {
      "cell_type": "markdown",
      "metadata": {
        "id": "f3s8jK58-Etx",
        "colab_type": "text"
      },
      "source": [
        "You can also download the dataset from Google Drive or Dropbox links:\n",
        "\n",
        "1) https://drive.google.com/file/d/15HFb7d6EBYsD5xLBU4wlqSIOFK4-arjc/view?usp=sharing\n",
        "\n",
        "2) https://www.dropbox.com/s/rxuxccbsbgt3ouu/dataset.zip?dl=0"
      ]
    },
    {
      "cell_type": "markdown",
      "metadata": {
        "id": "U6C1pe5m-Ety",
        "colab_type": "text"
      },
      "source": [
        "# Import Required Libraries"
      ]
    },
    {
      "cell_type": "code",
      "metadata": {
        "id": "D4mr7BDr-Etz",
        "colab_type": "code",
        "colab": {
          "base_uri": "https://localhost:8080/",
          "height": 34
        },
        "outputId": "d227eb82-261e-4c6b-a8bf-37f1d1e1d705"
      },
      "source": [
        "from __future__ import absolute_import, division, print_function, unicode_literals\n",
        "%tensorflow_version 2.x\n",
        "import tensorflow as tf\n",
        "device_name = tf.test.gpu_device_name()\n",
        "if device_name != '/device:GPU:0':\n",
        "  raise SystemError('GPU device not found')\n",
        "print('Found GPU at: {}'.format(device_name))\n",
        "import numpy as np\n",
        "import cv2\n",
        "import progressbar\n",
        "import datetime\n",
        "import os\n",
        "import time\n",
        "import matplotlib\n",
        "\n",
        "from datetime import datetime\n",
        "from matplotlib import pyplot as plt\n",
        "from IPython import display\n",
        "\n",
        "%config IPCompleter.greedy=True"
      ],
      "execution_count": 22,
      "outputs": [
        {
          "output_type": "stream",
          "text": [
            "Found GPU at: /device:GPU:0\n"
          ],
          "name": "stdout"
        }
      ]
    },
    {
      "cell_type": "markdown",
      "metadata": {
        "id": "2Y64QUTo-Et2",
        "colab_type": "text"
      },
      "source": [
        "# Prepare Data Piplines"
      ]
    },
    {
      "cell_type": "code",
      "metadata": {
        "id": "eBxCBClu-Et3",
        "colab_type": "code",
        "colab": {
          "base_uri": "https://localhost:8080/",
          "height": 85
        },
        "outputId": "1ce35364-8223-4d7b-c09a-5e9c1baea953"
      },
      "source": [
        "dir_rgb = 'dataset/RGB'\n",
        "dir_nir = 'dataset/NIR'\n",
        "dir_clouds = 'dataset/clouds'\n",
        "\n",
        "rgb_images = sorted(os.listdir(dir_rgb))\n",
        "rgb_images.remove('.DS_Store')\n",
        "cloud_images = sorted(os.listdir(dir_clouds))\n",
        "cloud_images.remove('.DS_Store')\n",
        "nir_images = sorted(os.listdir(dir_nir))\n",
        "nir_images.remove('.DS_Store')\n",
        "\n",
        "num_images = 528\n",
        "train_num_images = 428\n",
        "\n",
        "nir_cloud_intensity = 0.99\n",
        "\n",
        "print('Prepare Training Dataset')\n",
        "train_dataset_target_cloudfree_rgb = []\n",
        "train_dataset_clouded_rgb = []\n",
        "train_dataset_clouded_nir = []\n",
        "pbar = progressbar.ProgressBar(maxval=train_num_images)\n",
        "for i in range(train_num_images):\n",
        "    target_cloudfree_rgb = plt.imread(os.path.join(dir_rgb, rgb_images[i])).astype(np.float32)\n",
        "    target_cloudfree_rgb = cv2.normalize(target_cloudfree_rgb, None, alpha=0, beta=1, norm_type=cv2.NORM_MINMAX, dtype=cv2.CV_32F)\n",
        "\n",
        "    cloud = plt.imread(os.path.join(dir_clouds, cloud_images[i])).astype(np.float32)\n",
        "    cloud = 255 * cloud\n",
        "    cloud[:, :, 3] = np.clip(cloud[:, :, 3] + 75.0, 0, 255.0)\n",
        "    alpha = cloud[:, :, 3] / 255.0\n",
        "    alpha = np.broadcast_to(alpha[:, :, None], alpha.shape + (3,))\n",
        "\n",
        "    # Merge RGB image with the selected cloud image.\n",
        "    clouded_rgb = (1. - alpha) * target_cloudfree_rgb + alpha * np.ones([256, 256, 3])\n",
        "    target_cloudfree_rgb = 2 * target_cloudfree_rgb - 1\n",
        "    clouded_rgb = 2 * clouded_rgb - 1\n",
        "\n",
        "    # Merge NIR image with the selected cloud image.    \n",
        "    nir = plt.imread(os.path.join(dir_nir, nir_images[i])).astype(np.float32)\n",
        "    nir = cv2.normalize(nir, None, alpha=0, beta=1, norm_type=cv2.NORM_MINMAX, dtype=cv2.CV_32F)\n",
        "    nir_cloud = cloud[:, :, 3] / 255\n",
        "    clouded_nir = (1. - nir_cloud_intensity * nir_cloud) * nir + nir_cloud_intensity * nir_cloud * np.ones([256, 256])\n",
        "    clouded_nir = 2 * clouded_nir - 1\n",
        "\n",
        "    train_dataset_target_cloudfree_rgb.append(target_cloudfree_rgb.astype(np.float32))\n",
        "    train_dataset_clouded_rgb.append(clouded_rgb.astype(np.float32))\n",
        "    train_dataset_clouded_nir.append(clouded_nir.astype(np.float32))    \n",
        "    pbar.update(i+1)\n",
        "\n",
        "train_dataset_target_cloudfree_rgb = tf.data.Dataset.from_tensor_slices(train_dataset_target_cloudfree_rgb)\n",
        "train_dataset_clouded_rgb = tf.data.Dataset.from_tensor_slices(train_dataset_clouded_rgb)\n",
        "train_dataset_clouded_nir = tf.data.Dataset.from_tensor_slices(train_dataset_clouded_nir)\n",
        "train_dataset = tf.data.Dataset.zip((train_dataset_clouded_rgb, train_dataset_target_cloudfree_rgb, train_dataset_clouded_nir))\n",
        "pbar.finish()\n",
        "\n",
        "print('Prepare Test Dataset')\n",
        "test_dataset_target_cloudfree_rgb = []\n",
        "test_dataset_clouded_rgb = []\n",
        "test_dataset_clouded_nir = []\n",
        "pbar = progressbar.ProgressBar(maxval=num_images-train_num_images)\n",
        "for i in range(train_num_images, num_images):\n",
        "    target_cloudfree_rgb = plt.imread(os.path.join(dir_rgb, rgb_images[i])).astype(np.float32)\n",
        "    target_cloudfree_rgb = cv2.normalize(target_cloudfree_rgb, None, alpha=0, beta=1, norm_type=cv2.NORM_MINMAX, dtype=cv2.CV_32F)\n",
        "\n",
        "    cloud = plt.imread(os.path.join(dir_clouds, cloud_images[i])).astype(np.float32)\n",
        "    cloud = 255 * cloud\n",
        "    cloud[:, :, 3] = np.clip(cloud[:, :, 3] + 75.0, 0, 255.0)\n",
        "    alpha = cloud[:, :, 3] / 255.0\n",
        "    alpha = np.broadcast_to(alpha[:, :, None], alpha.shape + (3,))\n",
        "\n",
        "    # Merge RGB image with the selected cloud image.\n",
        "    clouded_rgb = (1. - alpha) * target_cloudfree_rgb + alpha * np.ones([256, 256, 3])\n",
        "    target_cloudfree_rgb = 2 * target_cloudfree_rgb - 1\n",
        "    clouded_rgb = 2 * clouded_rgb - 1\n",
        "\n",
        "    # Merge NIR image with the selected cloud image.\n",
        "    nir = plt.imread(os.path.join(dir_nir, nir_images[i])).astype(np.float32)\n",
        "    nir = cv2.normalize(nir, None, alpha=0, beta=1, norm_type=cv2.NORM_MINMAX, dtype=cv2.CV_32F)\n",
        "    nir_cloud = cloud[:, :, 3] / 255\n",
        "    clouded_nir = (1. - nir_cloud_intensity * nir_cloud) * nir + nir_cloud_intensity * nir_cloud * np.ones([256, 256])\n",
        "    clouded_nir = 2 * clouded_nir - 1\n",
        "\n",
        "    test_dataset_target_cloudfree_rgb.append(target_cloudfree_rgb.astype(np.float32))\n",
        "    test_dataset_clouded_rgb.append(clouded_rgb.astype(np.float32))\n",
        "    test_dataset_clouded_nir.append(clouded_nir.astype(np.float32))\n",
        "    pbar.update(i - train_num_images + 1)\n",
        "\n",
        "test_dataset_target_cloudfree_rgb = tf.data.Dataset.from_tensor_slices(test_dataset_target_cloudfree_rgb)\n",
        "test_dataset_clouded_rgb = tf.data.Dataset.from_tensor_slices(test_dataset_clouded_rgb)\n",
        "test_dataset_clouded_nir = tf.data.Dataset.from_tensor_slices(test_dataset_clouded_nir)\n",
        "test_dataset = tf.data.Dataset.zip((test_dataset_clouded_rgb, test_dataset_target_cloudfree_rgb, test_dataset_clouded_nir))\n",
        "pbar.finish()"
      ],
      "execution_count": 23,
      "outputs": [
        {
          "output_type": "stream",
          "text": [
            "  1% (6 of 428) |                        | Elapsed Time: 0:00:00 ETA:   0:00:07"
          ],
          "name": "stderr"
        },
        {
          "output_type": "stream",
          "text": [
            "Prepare Training Dataset\n"
          ],
          "name": "stdout"
        },
        {
          "output_type": "stream",
          "text": [
            "100% (428 of 428) |######################| Elapsed Time: 0:01:25 Time:  0:01:25\n",
            "  7% (7 of 100) |#                       | Elapsed Time: 0:00:00 ETA:   0:00:01"
          ],
          "name": "stderr"
        },
        {
          "output_type": "stream",
          "text": [
            "Prepare Test Dataset\n"
          ],
          "name": "stdout"
        },
        {
          "output_type": "stream",
          "text": [
            "100% (100 of 100) |######################| Elapsed Time: 0:00:19 Time:  0:00:19\n"
          ],
          "name": "stderr"
        }
      ]
    },
    {
      "cell_type": "markdown",
      "metadata": {
        "id": "fzmzXl3Z-Et5",
        "colab_type": "text"
      },
      "source": [
        "# GAN Architecture"
      ]
    },
    {
      "cell_type": "markdown",
      "metadata": {
        "id": "TwggaCmT-Et5",
        "colab_type": "text"
      },
      "source": [
        "## Single Decoder and Encoder Layers"
      ]
    },
    {
      "cell_type": "code",
      "metadata": {
        "id": "FcJj9Gxg-Et6",
        "colab_type": "code",
        "colab": {}
      },
      "source": [
        "# Single decoder layer \n",
        "def downsample(filters, size, apply_batchnorm=True):\n",
        "    initializer = tf.random_normal_initializer(0., 0.02)\n",
        "    result = tf.keras.Sequential()\n",
        "    result.add(\n",
        "        tf.keras.layers.Conv2D(filters, size, strides=2, padding='same',\n",
        "                               kernel_initializer=initializer, use_bias=False))\n",
        "    if apply_batchnorm:\n",
        "        result.add(tf.keras.layers.BatchNormalization())\n",
        "        result.add(tf.keras.layers.LeakyReLU())\n",
        "    return result\n",
        "\n",
        "# Single encoder layer\n",
        "def upsample(filters, size, apply_dropout=False):\n",
        "    initializer = tf.random_normal_initializer(0., 0.02)\n",
        "    result = tf.keras.Sequential()\n",
        "    result.add(tf.keras.layers.Conv2DTranspose(filters, size, strides=2,\n",
        "                                               padding='same',\n",
        "                                               kernel_initializer=initializer,\n",
        "                                               use_bias=False))\n",
        "    result.add(tf.keras.layers.BatchNormalization())\n",
        "    if apply_dropout:\n",
        "        result.add(tf.keras.layers.Dropout(0.5))\n",
        "\n",
        "    result.add(tf.keras.layers.ReLU())\n",
        "    return result"
      ],
      "execution_count": 32,
      "outputs": []
    },
    {
      "cell_type": "markdown",
      "metadata": {
        "id": "s5FYID2G-Et7",
        "colab_type": "text"
      },
      "source": [
        "## Generator Architecture and Loss"
      ]
    },
    {
      "cell_type": "code",
      "metadata": {
        "id": "3D2ku-IR-Et8",
        "colab_type": "code",
        "colab": {}
      },
      "source": [
        "OUTPUT_CHANNELS = 3\n",
        "def Generator():\n",
        "    clouded_rgb = tf.keras.layers.Input(shape=[256, 256, 3], name='clouded_rgb')\n",
        "    clouded_nir = tf.keras.layers.Input(shape=[256, 256, 1], name='clouded_nir')\n",
        "    down_stack = [\n",
        "        downsample(64, 4, apply_batchnorm=False),\n",
        "        downsample(128, 4),\n",
        "        downsample(256, 4),\n",
        "        downsample(512, 4),\n",
        "        downsample(512, 4),\n",
        "        downsample(512, 4),\n",
        "        downsample(512, 4),\n",
        "        downsample(512, 4),\n",
        "    ]\n",
        "    up_stack = [\n",
        "        upsample(512, 4, apply_dropout=True),\n",
        "        upsample(512, 4, apply_dropout=True),\n",
        "        upsample(512, 4, apply_dropout=True),\n",
        "        upsample(512, 4),\n",
        "        upsample(256, 4),\n",
        "        upsample(128, 4),\n",
        "        upsample(64, 4),\n",
        "    ]\n",
        "    initializer = tf.random_normal_initializer(0., 0.02)\n",
        "    last = tf.keras.layers.Conv2DTranspose(OUTPUT_CHANNELS, 4,\n",
        "                                           strides=2,\n",
        "                                           padding='same',\n",
        "                                           kernel_initializer=initializer,\n",
        "                                           activation='tanh')  # (bs, 256, 256, 3)\n",
        "    x = tf.keras.layers.concatenate([clouded_rgb, clouded_nir])\n",
        "    # Downsampling through the model\n",
        "    skips = []\n",
        "    for down in down_stack:\n",
        "        x = down(x)\n",
        "        skips.append(x)\n",
        "    skips = reversed(skips[:-1])\n",
        "    # Upsampling and establishing the skip connections\n",
        "    for up, skip in zip(up_stack, skips):\n",
        "        x = up(x)\n",
        "        x = tf.keras.layers.Concatenate()([x, skip])\n",
        "    x = last(x)\n",
        "    return tf.keras.Model(inputs=[clouded_rgb, clouded_nir], outputs=x)\n",
        "\n",
        "LAMBDA = 1\n",
        "\n",
        "def generator_loss(disc_generated_output, generated_cloudfree_rgb, target_cloudfree_rgb):\n",
        "    gan_loss = loss_object(tf.ones_like(disc_generated_output), disc_generated_output)\n",
        "    # mean absolute error\n",
        "    l1_loss = tf.reduce_mean(tf.abs(target_cloudfree_rgb - generated_cloudfree_rgb))\n",
        "    total_gen_loss = gan_loss + LAMBDA * l1_loss\n",
        "    return total_gen_loss, gan_loss, l1_loss"
      ],
      "execution_count": 33,
      "outputs": []
    },
    {
      "cell_type": "markdown",
      "metadata": {
        "id": "XPIB4Jq_-Et-",
        "colab_type": "text"
      },
      "source": [
        "## Discriminator Architecture and Loss"
      ]
    },
    {
      "cell_type": "code",
      "metadata": {
        "id": "GT0jrb8t-Et-",
        "colab_type": "code",
        "colab": {}
      },
      "source": [
        "def Discriminator():\n",
        "    initializer = tf.random_normal_initializer(0., 0.02)\n",
        "    # edge_clouded_nir = tf.keras.layers.Input(shape=[256, 256, 1], name='edge_clouded_nir')\n",
        "    cloud_free_rgb = tf.keras.layers.Input(shape=[256, 256, 3], name='cloud_free_rgb')\n",
        "    edge_cloud_free_rgb = tf.keras.layers.Input(shape=[256, 256, 1], name='edge_cloud_free_rgb')\n",
        "    # gray_edge_clouded_rgb = tf.keras.layers.Input(shape=[256, 256, 1], name='gray_edge_clouded_rgb')\n",
        "    x = tf.keras.layers.concatenate([cloud_free_rgb, edge_cloud_free_rgb])\n",
        "    down1 = downsample(64, 3, False)(x)\n",
        "    down2 = downsample(128, 3)(down1)\n",
        "    down3 = downsample(128, 3)(down2)\n",
        "    down4 = downsample(256, 3)(down3)\n",
        "    down5 = downsample(256, 3)(down4)\n",
        "    down6 = downsample(512, 3)(down5)\n",
        "    down7 = downsample(512, 3)(down6)\n",
        "    zero_pad1 = tf.keras.layers.ZeroPadding2D()(down7)\n",
        "    conv = tf.keras.layers.Conv2D(512, 3, strides=1,\n",
        "                                  kernel_initializer=initializer,\n",
        "                                  use_bias=False)(zero_pad1)\n",
        "    batchnorm1 = tf.keras.layers.BatchNormalization()(conv)\n",
        "    leaky_relu = tf.keras.layers.LeakyReLU()(batchnorm1)\n",
        "    zero_pad2 = tf.keras.layers.ZeroPadding2D()(leaky_relu)\n",
        "    layer10 = tf.keras.layers.Conv2D(1, 3, strides=1,\n",
        "                                     kernel_initializer=initializer)(zero_pad2)\n",
        "    flatten_layer = tf.keras.layers.Flatten()(layer10)\n",
        "    dense = tf.keras.layers.Dense(1)(flatten_layer)\n",
        "    return tf.keras.Model(inputs=[cloud_free_rgb, edge_cloud_free_rgb], outputs=tf.keras.activations.sigmoid(dense))\n",
        "\n",
        "loss_object = tf.keras.losses.BinaryCrossentropy(from_logits=True)\n",
        "\n",
        "def discriminator_loss(disc_real_output, disc_generated_output):\n",
        "    real_loss = loss_object(tf.ones_like(disc_real_output), disc_real_output)\n",
        "    generated_loss = loss_object(tf.zeros_like(disc_generated_output), disc_generated_output)\n",
        "    total_disc_loss = real_loss + generated_loss\n",
        "    return total_disc_loss"
      ],
      "execution_count": 34,
      "outputs": []
    },
    {
      "cell_type": "markdown",
      "metadata": {
        "id": "JFFqswuM-EuA",
        "colab_type": "text"
      },
      "source": [
        "# Visualize Images"
      ]
    },
    {
      "cell_type": "code",
      "metadata": {
        "id": "jRcKaWOC-EuA",
        "colab_type": "code",
        "colab": {}
      },
      "source": [
        "def display_images(generated_cloudfree_rgb, test_input, target_cloudfree_rgb):\n",
        "    plt.figure(figsize=(15,15))\n",
        "    display_list = [test_input[0][0], test_input[1][0,:,:,0], target_cloudfree_rgb[0], generated_cloudfree_rgb[0]]\n",
        "    title = ['Clouded RGB', 'Clouded NIR', 'Target Cloud-free RGB', 'Generated Cloud-free RGB']\n",
        "    for i in range(4):\n",
        "        plt.subplot(1, 4, i+1)\n",
        "        plt.title(title[i])\n",
        "        # getting the pixel values between [0, 1] to plot it.\n",
        "        if i==1:\n",
        "            plt.imshow((display_list[i].numpy() + 1)/2.0, cmap='gray')\n",
        "        else:\n",
        "            plt.imshow((display_list[i].numpy() + 1)/2.0)\n",
        "        plt.axis('off')\n",
        "    plt.show()"
      ],
      "execution_count": 35,
      "outputs": []
    },
    {
      "cell_type": "markdown",
      "metadata": {
        "id": "lTXSZpch-EuC",
        "colab_type": "text"
      },
      "source": [
        "# Training"
      ]
    },
    {
      "cell_type": "code",
      "metadata": {
        "id": "TzkS8BSI-EuC",
        "colab_type": "code",
        "colab": {
          "base_uri": "https://localhost:8080/",
          "height": 34
        },
        "outputId": "d3dfbde8-d5ad-4cd0-bd44-766d83a298b0"
      },
      "source": [
        "@tf.function\n",
        "def train_step(clouded_rgb, target_cloudfree_rgb, clouded_nir, epoch):\n",
        "    with tf.GradientTape() as gen_tape, tf.GradientTape() as disc_tape:\n",
        "        generated_cloudfree_rgb = generator([clouded_rgb[None, :, :, :], clouded_nir[None, :, :, None]], training=True)\n",
        "\n",
        "        gray_generated_cloudfree_rgb = tf.image.rgb_to_grayscale(generated_cloudfree_rgb)\n",
        "        sobel = tf.image.sobel_edges(gray_generated_cloudfree_rgb)\n",
        "        gray_edge_generated_cloudfree_rgb = sobel[:, :, :, :, 0] \n",
        "\n",
        "        gray_target_cloudfree_rgb = tf.image.rgb_to_grayscale(target_cloudfree_rgb[None, :, :, :])\n",
        "        gray_edge_target_cloudfree_rgb = tf.image.sobel_edges(gray_target_cloudfree_rgb)\n",
        "        gray_edge_target_cloudfree_rgb = gray_edge_target_cloudfree_rgb[:, :, :, :, 0]\n",
        "\n",
        "        disc_real_output = discriminator([target_cloudfree_rgb[None, :, :, :], gray_edge_target_cloudfree_rgb], training=True)\n",
        "        disc_generated_output = discriminator([generated_cloudfree_rgb, gray_edge_generated_cloudfree_rgb], training=True)\n",
        "\n",
        "        gen_total_loss, gen_gan_loss, gen_l1_loss = generator_loss(disc_generated_output, generated_cloudfree_rgb,\n",
        "                                                                   target_cloudfree_rgb)\n",
        "        disc_loss = discriminator_loss(disc_real_output, disc_generated_output)\n",
        "\n",
        "    generator_gradients = gen_tape.gradient(gen_total_loss,\n",
        "                                            generator.trainable_variables)\n",
        "    discriminator_gradients = disc_tape.gradient(disc_loss,\n",
        "                                                 discriminator.trainable_variables)\n",
        "    generator_optimizer.apply_gradients(zip(generator_gradients,\n",
        "                                            generator.trainable_variables))\n",
        "    discriminator_optimizer.apply_gradients(zip(discriminator_gradients,\n",
        "                                                discriminator.trainable_variables))\n",
        "    with summary_writer.as_default():\n",
        "        tf.summary.scalar('gen_total_loss', gen_total_loss, step=epoch)\n",
        "        tf.summary.scalar('gen_gan_loss', gen_gan_loss, step=epoch)\n",
        "        tf.summary.scalar('gen_l1_loss', gen_l1_loss, step=epoch)\n",
        "        tf.summary.scalar('disc_loss', disc_loss, step=epoch)\n",
        "\n",
        "dir_generated_cloud_free_images = 'results/' + 'generated_cloud_free_images_' + str(nir_cloud_intensity * 100) + 'eta_NIR'\n",
        "try:\n",
        "    os.makedirs(dir_generated_cloud_free_images)\n",
        "except OSError:\n",
        "    print(\"Directory %s already exists\" % dir_generated_cloud_free_images)\n",
        "\n",
        "def fit(train_ds, test_ds, start_from_epoch):\n",
        "    len_epochs = 10 ** (len(str(EPOCHS)))\n",
        "    for epoch in range(start_from_epoch - 1, EPOCHS):\n",
        "        print(\"Epoch: \", epoch + 1)\n",
        "        pbar = progressbar.ProgressBar(maxval=train_num_images)\n",
        "        idx = 1\n",
        "        for _, all_images_in_batch in train_ds.enumerate():\n",
        "            train_step(all_images_in_batch[0], all_images_in_batch[1], all_images_in_batch[2], epoch)\n",
        "            pbar.update(idx)\n",
        "            idx = idx + 1\n",
        "        pbar.finish()\n",
        "\n",
        "        # saving generated cloud-free rgb images in every 50 epochs\n",
        "        if (epoch + 1) % 50 == 0:\n",
        "            id_im = 1\n",
        "            for example_clouded_rgb_image, example_target_cloudfree_rgb_image, example_clouded_nir in test_ds.take(num_images - train_num_images):\n",
        "                generated_cloud_free_image = generator([example_clouded_rgb_image[None, :, :, :], example_clouded_nir[None, :, :, None]], training=True)                \n",
        "                matplotlib.image.imsave(dir_generated_cloud_free_images + '/' + 'generated_cloud_free_rgb' + str(len_epochs + epoch + 1)[1:] + '_' + str(10 * (num_images - train_num_images) + id_im)[1:] + '.png', (1 + generated_cloud_free_image[0].numpy()) / 2)\n",
        "                # visualize generated cloud-free rgb images\n",
        "                display_images(generated_cloud_free_image, [example_clouded_rgb_image[None,:,:,:], example_clouded_nir[None,:,:,None]], example_target_cloudfree_rgb_image[None,:,:,:])\n",
        "                id_im = id_im + 1        \n",
        "        \n",
        "        # saving (checkpoint) the model in every 20 epochs\n",
        "        if (epoch + 1) % 20 == 0:\n",
        "            checkpoint.save(file_prefix=checkpoint_prefix)\n",
        "\n",
        "    checkpoint.save(file_prefix=checkpoint_prefix)"
      ],
      "execution_count": 36,
      "outputs": [
        {
          "output_type": "stream",
          "text": [
            "Directory results/generated_cloud_free_images_99.0eta_NIR already exists\n"
          ],
          "name": "stdout"
        }
      ]
    },
    {
      "cell_type": "markdown",
      "metadata": {
        "id": "pKfShukn-EuE",
        "colab_type": "text"
      },
      "source": [
        "# Fit Data"
      ]
    },
    {
      "cell_type": "code",
      "metadata": {
        "id": "EHTwLnQwVy4l",
        "colab_type": "code",
        "colab": {}
      },
      "source": [
        "generator = Generator()\n",
        "discriminator = Discriminator()\n",
        "generator_optimizer = tf.keras.optimizers.Adam(2e-4, beta_1=0.5)\n",
        "discriminator_optimizer = tf.keras.optimizers.Adam(2e-4, beta_1=0.5)"
      ],
      "execution_count": 37,
      "outputs": []
    },
    {
      "cell_type": "code",
      "metadata": {
        "id": "ssOSAInZ-EuE",
        "colab_type": "code",
        "colab": {
          "base_uri": "https://localhost:8080/",
          "height": 119
        },
        "outputId": "67302a29-1896-4881-fd6d-3750dc65fbd2"
      },
      "source": [
        "log_dir = 'logs/'\n",
        "summary_writer = tf.summary.create_file_writer(log_dir + 'fit/' + datetime.now().strftime(\"%Y%m%d-%H%M%S\"))\n",
        "\n",
        "checkpoint_dir = './training_checkpoints'\n",
        "try:\n",
        "    os.mkdir(checkpoint_dir)\n",
        "except OSError:\n",
        "    print(\"Directory %s already exists\" % checkpoint_dir)\n",
        "\n",
        "checkpoint_prefix = os.path.join(checkpoint_dir, 'ckpt')\n",
        "\n",
        "restore_checkpoint = False # To restore last checkpoint, set this to True \n",
        "if restore_checkpoint is False:\n",
        "    checkpoint = tf.train.Checkpoint(generator_optimizer=generator_optimizer,\n",
        "                                 discriminator_optimizer=discriminator_optimizer,\n",
        "                                 generator=generator,\n",
        "                                 discriminator=discriminator)\n",
        "    checkpoint_path = checkpoint_dir + '/training/cp-{epoch:04d}.ckpt'\n",
        "else:\n",
        "    checkpoint.restore(tf.train.latest_checkpoint(checkpoint_dir))\n",
        "    \n",
        "EPOCHS = 500\n",
        "start_from_epoch = 1\n",
        "fit(train_dataset, test_dataset, start_from_epoch)"
      ],
      "execution_count": null,
      "outputs": [
        {
          "output_type": "stream",
          "text": [
            "Directory ./training_checkpoints already exists\n",
            "Epoch:  1\n"
          ],
          "name": "stdout"
        },
        {
          "output_type": "stream",
          "text": [
            "100% (428 of 428) |######################| Elapsed Time: 0:01:06 Time:  0:01:06\n"
          ],
          "name": "stderr"
        },
        {
          "output_type": "stream",
          "text": [
            "Epoch:  2\n"
          ],
          "name": "stdout"
        },
        {
          "output_type": "stream",
          "text": [
            "100% (428 of 428) |######################| Elapsed Time: 0:01:06 Time:  0:01:06\n"
          ],
          "name": "stderr"
        },
        {
          "output_type": "stream",
          "text": [
            "Epoch:  3\n"
          ],
          "name": "stdout"
        }
      ]
    }
  ]
}